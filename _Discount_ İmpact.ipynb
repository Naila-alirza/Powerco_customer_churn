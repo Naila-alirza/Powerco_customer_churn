{
 "cells": [
  {
   "cell_type": "code",
   "execution_count": 126,
   "id": "3984499a",
   "metadata": {},
   "outputs": [],
   "source": [
    "import pandas as pd\n",
    "import numpy as np\n",
    "import matplotlib.pyplot as plt\n",
    "from sklearn.ensemble import RandomForestClassifier\n",
    "from sklearn.model_selection import train_test_split\n",
    "from sklearn.metrics import accuracy_score,confusion_matrix,f1_score,precision_score,recall_score,classification_report,roc_curve,roc_auc_score"
   ]
  },
  {
   "cell_type": "code",
   "execution_count": 127,
   "id": "852c0149",
   "metadata": {},
   "outputs": [],
   "source": [
    "pd.set_option('display.max_columns',None)\n",
    "pd.set_option('display.width',500)"
   ]
  },
  {
   "cell_type": "markdown",
   "id": "3f4b0e62",
   "metadata": {},
   "source": [
    "When no discount is offered, and when a discount is offered based on some probability cut-off to decide who should receive a discount 20% and therefore decide where the cut-off should be set so as to maximize revenue."
   ]
  },
  {
   "cell_type": "code",
   "execution_count": 128,
   "id": "2e0c7e9f",
   "metadata": {},
   "outputs": [
    {
     "data": {
      "text/html": [
       "<div>\n",
       "<style scoped>\n",
       "    .dataframe tbody tr th:only-of-type {\n",
       "        vertical-align: middle;\n",
       "    }\n",
       "\n",
       "    .dataframe tbody tr th {\n",
       "        vertical-align: top;\n",
       "    }\n",
       "\n",
       "    .dataframe thead th {\n",
       "        text-align: right;\n",
       "    }\n",
       "</style>\n",
       "<table border=\"1\" class=\"dataframe\">\n",
       "  <thead>\n",
       "    <tr style=\"text-align: right;\">\n",
       "      <th></th>\n",
       "      <th>Unnamed: 0</th>\n",
       "      <th>cons_12m</th>\n",
       "      <th>cons_gas_12m</th>\n",
       "      <th>cons_last_month</th>\n",
       "      <th>forecast_cons_12m</th>\n",
       "      <th>forecast_discount_energy</th>\n",
       "      <th>forecast_meter_rent_12m</th>\n",
       "      <th>forecast_price_energy_off_peak</th>\n",
       "      <th>forecast_price_energy_peak</th>\n",
       "      <th>forecast_price_pow_off_peak</th>\n",
       "      <th>has_gas</th>\n",
       "      <th>imp_cons</th>\n",
       "      <th>margin_gross_pow_ele</th>\n",
       "      <th>margin_net_pow_ele</th>\n",
       "      <th>nb_prod_act</th>\n",
       "      <th>net_margin</th>\n",
       "      <th>pow_max</th>\n",
       "      <th>start_year</th>\n",
       "      <th>end_year</th>\n",
       "      <th>price_p1_var_year</th>\n",
       "      <th>price_p2_var_year</th>\n",
       "      <th>price_p3_var_year</th>\n",
       "      <th>price_p1_fix_year</th>\n",
       "      <th>price_p2_fix_year</th>\n",
       "      <th>price_p3_fix_year</th>\n",
       "      <th>var_year_price_p1</th>\n",
       "      <th>var_year_price_p2</th>\n",
       "      <th>var_year_price_p3</th>\n",
       "      <th>price_p1_var_6m</th>\n",
       "      <th>price_p2_var_6m</th>\n",
       "      <th>price_p3_var_6m</th>\n",
       "      <th>price_p1_fix_6m</th>\n",
       "      <th>price_p2_fix_6m</th>\n",
       "      <th>price_p3_fix_6m</th>\n",
       "      <th>var_6m_price_p1</th>\n",
       "      <th>var_6m_price_p2</th>\n",
       "      <th>var_6m_price_p3</th>\n",
       "      <th>offpeak_diff_dec_january_energy</th>\n",
       "      <th>offpeak_diff_dec_january_power</th>\n",
       "      <th>mean_dif_price_offpeak_peak_var</th>\n",
       "      <th>mean_dif_price_offpeak_peak_fix</th>\n",
       "      <th>mean_dif_price_peak_midpeak_var</th>\n",
       "      <th>mean_dif_price_peak_midpeak_fix</th>\n",
       "      <th>mean_dif_price_offpeak_midpeak__var</th>\n",
       "      <th>mean_dif_price_offpeak_midpeak__fix</th>\n",
       "      <th>max_dif_price_offpeak_peak_var</th>\n",
       "      <th>max_dif_price_offpeak_peak_fix</th>\n",
       "      <th>max_dif_price_peak_midpeak_var</th>\n",
       "      <th>max_dif_price_peak_midpeak_fix</th>\n",
       "      <th>max_dif_price_offpeak_midpeak__var</th>\n",
       "      <th>max_dif_price_offpeak_midpeak__fix</th>\n",
       "      <th>channel_sales_foosdfpfkusacimwkcsosbicdxkicaua</th>\n",
       "      <th>channel_sales_lmkebamcaaclubfxadlmueccxoimlema</th>\n",
       "      <th>channel_sales_usilxuppasemubllopkaafesmlibmsdf</th>\n",
       "      <th>origin_up_kamkkxfxxuwbdslkwifmmcsiusiuosws</th>\n",
       "      <th>origin_up_ldkssxwpmemidmecebumciepifcamkci</th>\n",
       "      <th>origin_up_lxidpiddsbxsbosboudacockeimpuepw</th>\n",
       "      <th>churn</th>\n",
       "      <th>churn_probability</th>\n",
       "    </tr>\n",
       "  </thead>\n",
       "  <tbody>\n",
       "    <tr>\n",
       "      <th>0</th>\n",
       "      <td>0</td>\n",
       "      <td>5.357685</td>\n",
       "      <td>0.000000</td>\n",
       "      <td>4.442840</td>\n",
       "      <td>3.399776</td>\n",
       "      <td>0.0</td>\n",
       "      <td>131.43</td>\n",
       "      <td>0.115939</td>\n",
       "      <td>0.100823</td>\n",
       "      <td>1.619163</td>\n",
       "      <td>0</td>\n",
       "      <td>2.456093</td>\n",
       "      <td>7.04</td>\n",
       "      <td>7.04</td>\n",
       "      <td>1</td>\n",
       "      <td>317.64</td>\n",
       "      <td>21.000</td>\n",
       "      <td>2011</td>\n",
       "      <td>2016</td>\n",
       "      <td>0.000025</td>\n",
       "      <td>8.368333e-06</td>\n",
       "      <td>2.067190e-06</td>\n",
       "      <td>0.000000</td>\n",
       "      <td>0.000000</td>\n",
       "      <td>0.000000</td>\n",
       "      <td>0.000025</td>\n",
       "      <td>8.368333e-06</td>\n",
       "      <td>0.000002</td>\n",
       "      <td>0.000011</td>\n",
       "      <td>2.943452e-06</td>\n",
       "      <td>1.435174e-06</td>\n",
       "      <td>0.000000</td>\n",
       "      <td>0.000000</td>\n",
       "      <td>0.000000</td>\n",
       "      <td>0.000011</td>\n",
       "      <td>2.943452e-06</td>\n",
       "      <td>1.435174e-06</td>\n",
       "      <td>-0.010876</td>\n",
       "      <td>0.000000</td>\n",
       "      <td>0.020414</td>\n",
       "      <td>16.291555</td>\n",
       "      <td>0.030324</td>\n",
       "      <td>8.145775</td>\n",
       "      <td>0.050738</td>\n",
       "      <td>24.437330</td>\n",
       "      <td>0.022226</td>\n",
       "      <td>16.291555</td>\n",
       "      <td>0.032070</td>\n",
       "      <td>8.145775</td>\n",
       "      <td>0.054296</td>\n",
       "      <td>24.43733</td>\n",
       "      <td>0</td>\n",
       "      <td>0</td>\n",
       "      <td>1</td>\n",
       "      <td>1</td>\n",
       "      <td>0</td>\n",
       "      <td>0</td>\n",
       "      <td>0</td>\n",
       "      <td>0.06</td>\n",
       "    </tr>\n",
       "    <tr>\n",
       "      <th>1</th>\n",
       "      <td>1</td>\n",
       "      <td>3.511883</td>\n",
       "      <td>3.879383</td>\n",
       "      <td>2.710963</td>\n",
       "      <td>2.570555</td>\n",
       "      <td>0.0</td>\n",
       "      <td>16.55</td>\n",
       "      <td>0.165794</td>\n",
       "      <td>0.087899</td>\n",
       "      <td>1.656207</td>\n",
       "      <td>1</td>\n",
       "      <td>1.771661</td>\n",
       "      <td>23.76</td>\n",
       "      <td>23.76</td>\n",
       "      <td>2</td>\n",
       "      <td>41.66</td>\n",
       "      <td>10.392</td>\n",
       "      <td>2012</td>\n",
       "      <td>2016</td>\n",
       "      <td>0.000006</td>\n",
       "      <td>2.667687e-07</td>\n",
       "      <td>0.000000e+00</td>\n",
       "      <td>0.006465</td>\n",
       "      <td>0.000000</td>\n",
       "      <td>0.000000</td>\n",
       "      <td>0.006470</td>\n",
       "      <td>2.667687e-07</td>\n",
       "      <td>0.000000</td>\n",
       "      <td>0.000004</td>\n",
       "      <td>9.450150e-08</td>\n",
       "      <td>0.000000e+00</td>\n",
       "      <td>0.000000</td>\n",
       "      <td>0.000000</td>\n",
       "      <td>0.000000</td>\n",
       "      <td>0.000004</td>\n",
       "      <td>9.450150e-08</td>\n",
       "      <td>0.000000e+00</td>\n",
       "      <td>-0.004670</td>\n",
       "      <td>0.177779</td>\n",
       "      <td>0.081980</td>\n",
       "      <td>44.400265</td>\n",
       "      <td>0.088528</td>\n",
       "      <td>0.000000</td>\n",
       "      <td>0.170508</td>\n",
       "      <td>44.400265</td>\n",
       "      <td>0.084587</td>\n",
       "      <td>44.444710</td>\n",
       "      <td>0.089162</td>\n",
       "      <td>0.000000</td>\n",
       "      <td>0.172468</td>\n",
       "      <td>44.44471</td>\n",
       "      <td>0</td>\n",
       "      <td>1</td>\n",
       "      <td>0</td>\n",
       "      <td>0</td>\n",
       "      <td>1</td>\n",
       "      <td>0</td>\n",
       "      <td>0</td>\n",
       "      <td>0.01</td>\n",
       "    </tr>\n",
       "    <tr>\n",
       "      <th>2</th>\n",
       "      <td>2</td>\n",
       "      <td>4.048481</td>\n",
       "      <td>0.000000</td>\n",
       "      <td>0.000000</td>\n",
       "      <td>3.070692</td>\n",
       "      <td>0.0</td>\n",
       "      <td>117.17</td>\n",
       "      <td>0.115761</td>\n",
       "      <td>0.099419</td>\n",
       "      <td>1.619163</td>\n",
       "      <td>0</td>\n",
       "      <td>0.000000</td>\n",
       "      <td>22.86</td>\n",
       "      <td>22.86</td>\n",
       "      <td>1</td>\n",
       "      <td>151.23</td>\n",
       "      <td>15.935</td>\n",
       "      <td>2010</td>\n",
       "      <td>2016</td>\n",
       "      <td>0.000026</td>\n",
       "      <td>7.414530e-06</td>\n",
       "      <td>1.300205e-07</td>\n",
       "      <td>0.007038</td>\n",
       "      <td>0.002534</td>\n",
       "      <td>0.001126</td>\n",
       "      <td>0.007064</td>\n",
       "      <td>2.540921e-03</td>\n",
       "      <td>0.001126</td>\n",
       "      <td>0.000011</td>\n",
       "      <td>2.896760e-06</td>\n",
       "      <td>4.860000e-10</td>\n",
       "      <td>0.000000</td>\n",
       "      <td>0.000000</td>\n",
       "      <td>0.000000</td>\n",
       "      <td>0.000011</td>\n",
       "      <td>2.896760e-06</td>\n",
       "      <td>4.860000e-10</td>\n",
       "      <td>-0.010689</td>\n",
       "      <td>0.162916</td>\n",
       "      <td>0.020390</td>\n",
       "      <td>16.264402</td>\n",
       "      <td>0.029113</td>\n",
       "      <td>8.132199</td>\n",
       "      <td>0.049502</td>\n",
       "      <td>24.396601</td>\n",
       "      <td>0.022581</td>\n",
       "      <td>16.291555</td>\n",
       "      <td>0.031860</td>\n",
       "      <td>8.145775</td>\n",
       "      <td>0.054441</td>\n",
       "      <td>24.43733</td>\n",
       "      <td>0</td>\n",
       "      <td>0</td>\n",
       "      <td>0</td>\n",
       "      <td>0</td>\n",
       "      <td>0</td>\n",
       "      <td>1</td>\n",
       "      <td>0</td>\n",
       "      <td>0.15</td>\n",
       "    </tr>\n",
       "    <tr>\n",
       "      <th>3</th>\n",
       "      <td>3</td>\n",
       "      <td>3.764998</td>\n",
       "      <td>5.008962</td>\n",
       "      <td>2.436163</td>\n",
       "      <td>2.941501</td>\n",
       "      <td>0.0</td>\n",
       "      <td>20.54</td>\n",
       "      <td>0.145884</td>\n",
       "      <td>0.000000</td>\n",
       "      <td>1.656207</td>\n",
       "      <td>1</td>\n",
       "      <td>1.614792</td>\n",
       "      <td>30.22</td>\n",
       "      <td>30.22</td>\n",
       "      <td>2</td>\n",
       "      <td>79.46</td>\n",
       "      <td>13.200</td>\n",
       "      <td>2012</td>\n",
       "      <td>2016</td>\n",
       "      <td>0.000004</td>\n",
       "      <td>0.000000e+00</td>\n",
       "      <td>0.000000e+00</td>\n",
       "      <td>0.006465</td>\n",
       "      <td>0.000000</td>\n",
       "      <td>0.000000</td>\n",
       "      <td>0.006469</td>\n",
       "      <td>0.000000e+00</td>\n",
       "      <td>0.000000</td>\n",
       "      <td>0.000003</td>\n",
       "      <td>0.000000e+00</td>\n",
       "      <td>0.000000e+00</td>\n",
       "      <td>0.000000</td>\n",
       "      <td>0.000000</td>\n",
       "      <td>0.000000</td>\n",
       "      <td>0.000003</td>\n",
       "      <td>0.000000e+00</td>\n",
       "      <td>0.000000e+00</td>\n",
       "      <td>-0.002818</td>\n",
       "      <td>0.177779</td>\n",
       "      <td>0.149965</td>\n",
       "      <td>44.400265</td>\n",
       "      <td>0.000000</td>\n",
       "      <td>0.000000</td>\n",
       "      <td>0.149965</td>\n",
       "      <td>44.400265</td>\n",
       "      <td>0.152235</td>\n",
       "      <td>44.444710</td>\n",
       "      <td>0.000000</td>\n",
       "      <td>0.000000</td>\n",
       "      <td>0.152235</td>\n",
       "      <td>44.44471</td>\n",
       "      <td>0</td>\n",
       "      <td>0</td>\n",
       "      <td>0</td>\n",
       "      <td>0</td>\n",
       "      <td>1</td>\n",
       "      <td>0</td>\n",
       "      <td>0</td>\n",
       "      <td>0.09</td>\n",
       "    </tr>\n",
       "    <tr>\n",
       "      <th>4</th>\n",
       "      <td>4</td>\n",
       "      <td>3.624076</td>\n",
       "      <td>0.000000</td>\n",
       "      <td>2.615950</td>\n",
       "      <td>2.631789</td>\n",
       "      <td>0.0</td>\n",
       "      <td>143.26</td>\n",
       "      <td>0.115174</td>\n",
       "      <td>0.098837</td>\n",
       "      <td>1.619163</td>\n",
       "      <td>0</td>\n",
       "      <td>1.620656</td>\n",
       "      <td>22.31</td>\n",
       "      <td>22.31</td>\n",
       "      <td>1</td>\n",
       "      <td>47.22</td>\n",
       "      <td>16.500</td>\n",
       "      <td>2010</td>\n",
       "      <td>2016</td>\n",
       "      <td>0.000095</td>\n",
       "      <td>4.435147e-05</td>\n",
       "      <td>8.033560e-04</td>\n",
       "      <td>2.008669</td>\n",
       "      <td>90.050577</td>\n",
       "      <td>40.022484</td>\n",
       "      <td>2.008764</td>\n",
       "      <td>9.005062e+01</td>\n",
       "      <td>40.023288</td>\n",
       "      <td>0.000125</td>\n",
       "      <td>4.185110e-05</td>\n",
       "      <td>9.121153e-04</td>\n",
       "      <td>2.129143</td>\n",
       "      <td>99.372856</td>\n",
       "      <td>44.165718</td>\n",
       "      <td>2.129268</td>\n",
       "      <td>9.937290e+01</td>\n",
       "      <td>4.416663e+01</td>\n",
       "      <td>-0.007801</td>\n",
       "      <td>0.162916</td>\n",
       "      <td>0.027277</td>\n",
       "      <td>20.921535</td>\n",
       "      <td>0.038835</td>\n",
       "      <td>6.771855</td>\n",
       "      <td>0.066112</td>\n",
       "      <td>27.693389</td>\n",
       "      <td>0.060550</td>\n",
       "      <td>44.266930</td>\n",
       "      <td>0.085483</td>\n",
       "      <td>8.145775</td>\n",
       "      <td>0.146033</td>\n",
       "      <td>44.26693</td>\n",
       "      <td>1</td>\n",
       "      <td>0</td>\n",
       "      <td>0</td>\n",
       "      <td>0</td>\n",
       "      <td>0</td>\n",
       "      <td>1</td>\n",
       "      <td>0</td>\n",
       "      <td>0.16</td>\n",
       "    </tr>\n",
       "  </tbody>\n",
       "</table>\n",
       "</div>"
      ],
      "text/plain": [
       "   Unnamed: 0  cons_12m  cons_gas_12m  cons_last_month  forecast_cons_12m  forecast_discount_energy  forecast_meter_rent_12m  forecast_price_energy_off_peak  forecast_price_energy_peak  forecast_price_pow_off_peak  has_gas  imp_cons  margin_gross_pow_ele  margin_net_pow_ele  nb_prod_act  net_margin  pow_max  start_year  end_year  price_p1_var_year  price_p2_var_year  price_p3_var_year  price_p1_fix_year  price_p2_fix_year  price_p3_fix_year  var_year_price_p1  var_year_price_p2  \\\n",
       "0           0  5.357685      0.000000         4.442840           3.399776                       0.0                   131.43                        0.115939                    0.100823                     1.619163        0  2.456093                  7.04                7.04            1      317.64   21.000        2011      2016           0.000025       8.368333e-06       2.067190e-06           0.000000           0.000000           0.000000           0.000025       8.368333e-06   \n",
       "1           1  3.511883      3.879383         2.710963           2.570555                       0.0                    16.55                        0.165794                    0.087899                     1.656207        1  1.771661                 23.76               23.76            2       41.66   10.392        2012      2016           0.000006       2.667687e-07       0.000000e+00           0.006465           0.000000           0.000000           0.006470       2.667687e-07   \n",
       "2           2  4.048481      0.000000         0.000000           3.070692                       0.0                   117.17                        0.115761                    0.099419                     1.619163        0  0.000000                 22.86               22.86            1      151.23   15.935        2010      2016           0.000026       7.414530e-06       1.300205e-07           0.007038           0.002534           0.001126           0.007064       2.540921e-03   \n",
       "3           3  3.764998      5.008962         2.436163           2.941501                       0.0                    20.54                        0.145884                    0.000000                     1.656207        1  1.614792                 30.22               30.22            2       79.46   13.200        2012      2016           0.000004       0.000000e+00       0.000000e+00           0.006465           0.000000           0.000000           0.006469       0.000000e+00   \n",
       "4           4  3.624076      0.000000         2.615950           2.631789                       0.0                   143.26                        0.115174                    0.098837                     1.619163        0  1.620656                 22.31               22.31            1       47.22   16.500        2010      2016           0.000095       4.435147e-05       8.033560e-04           2.008669          90.050577          40.022484           2.008764       9.005062e+01   \n",
       "\n",
       "   var_year_price_p3  price_p1_var_6m  price_p2_var_6m  price_p3_var_6m  price_p1_fix_6m  price_p2_fix_6m  price_p3_fix_6m  var_6m_price_p1  var_6m_price_p2  var_6m_price_p3  offpeak_diff_dec_january_energy  offpeak_diff_dec_january_power  mean_dif_price_offpeak_peak_var  mean_dif_price_offpeak_peak_fix  mean_dif_price_peak_midpeak_var  mean_dif_price_peak_midpeak_fix  mean_dif_price_offpeak_midpeak__var  mean_dif_price_offpeak_midpeak__fix  max_dif_price_offpeak_peak_var  \\\n",
       "0           0.000002         0.000011     2.943452e-06     1.435174e-06         0.000000         0.000000         0.000000         0.000011     2.943452e-06     1.435174e-06                        -0.010876                        0.000000                         0.020414                        16.291555                         0.030324                         8.145775                             0.050738                            24.437330                        0.022226   \n",
       "1           0.000000         0.000004     9.450150e-08     0.000000e+00         0.000000         0.000000         0.000000         0.000004     9.450150e-08     0.000000e+00                        -0.004670                        0.177779                         0.081980                        44.400265                         0.088528                         0.000000                             0.170508                            44.400265                        0.084587   \n",
       "2           0.001126         0.000011     2.896760e-06     4.860000e-10         0.000000         0.000000         0.000000         0.000011     2.896760e-06     4.860000e-10                        -0.010689                        0.162916                         0.020390                        16.264402                         0.029113                         8.132199                             0.049502                            24.396601                        0.022581   \n",
       "3           0.000000         0.000003     0.000000e+00     0.000000e+00         0.000000         0.000000         0.000000         0.000003     0.000000e+00     0.000000e+00                        -0.002818                        0.177779                         0.149965                        44.400265                         0.000000                         0.000000                             0.149965                            44.400265                        0.152235   \n",
       "4          40.023288         0.000125     4.185110e-05     9.121153e-04         2.129143        99.372856        44.165718         2.129268     9.937290e+01     4.416663e+01                        -0.007801                        0.162916                         0.027277                        20.921535                         0.038835                         6.771855                             0.066112                            27.693389                        0.060550   \n",
       "\n",
       "   max_dif_price_offpeak_peak_fix  max_dif_price_peak_midpeak_var  max_dif_price_peak_midpeak_fix  max_dif_price_offpeak_midpeak__var  max_dif_price_offpeak_midpeak__fix  channel_sales_foosdfpfkusacimwkcsosbicdxkicaua  channel_sales_lmkebamcaaclubfxadlmueccxoimlema  channel_sales_usilxuppasemubllopkaafesmlibmsdf  origin_up_kamkkxfxxuwbdslkwifmmcsiusiuosws  origin_up_ldkssxwpmemidmecebumciepifcamkci  origin_up_lxidpiddsbxsbosboudacockeimpuepw  churn  churn_probability  \n",
       "0                       16.291555                        0.032070                        8.145775                            0.054296                            24.43733                                               0                                               0                                               1                                           1                                           0                                           0      0               0.06  \n",
       "1                       44.444710                        0.089162                        0.000000                            0.172468                            44.44471                                               0                                               1                                               0                                           0                                           1                                           0      0               0.01  \n",
       "2                       16.291555                        0.031860                        8.145775                            0.054441                            24.43733                                               0                                               0                                               0                                           0                                           0                                           1      0               0.15  \n",
       "3                       44.444710                        0.000000                        0.000000                            0.152235                            44.44471                                               0                                               0                                               0                                           0                                           1                                           0      0               0.09  \n",
       "4                       44.266930                        0.085483                        8.145775                            0.146033                            44.26693                                               1                                               0                                               0                                           0                                           0                                           1      0               0.16  "
      ]
     },
     "execution_count": 128,
     "metadata": {},
     "output_type": "execute_result"
    }
   ],
   "source": [
    "X_test_1=pd.read_csv('./predictions_data.csv')\n",
    "X_test_1.head()"
   ]
  },
  {
   "cell_type": "markdown",
   "id": "0b75faa2",
   "metadata": {},
   "source": [
    "The confusion matrix in previous task shows the importance of false negatives, the most costly classification error of the model. This is when the model predicts customers stay while customers actually churn.In other words, when the model predicts customers stay, there is no need to give discount incentives for these customers.The company thereby loses profits by making them leave without doing any action for them to stay. Whereas, in terms of false positives (the model predicts customers churn while they stay), the company reduces profits by offering discounts, but still have some revenue from these returning customers. It is important, therefore, to minimize our false negative rate (or minimize costs) while maximizing true positives rate (maximize profits)"
   ]
  },
  {
   "cell_type": "code",
   "execution_count": 129,
   "id": "20901687",
   "metadata": {},
   "outputs": [
    {
     "data": {
      "text/plain": [
       "22"
      ]
     },
     "execution_count": 129,
     "metadata": {},
     "output_type": "execute_result"
    }
   ],
   "source": [
    "(X_test_1['churn_probability']>0.5).sum()\n"
   ]
  },
  {
   "cell_type": "markdown",
   "id": "30ba0a83",
   "metadata": {},
   "source": [
    "We assign the true negatives the cost of $0.Our model essentially correctly identified a happy customer in this case, and we won’t offer them an incentive.False negatives are the most problematic because they incorrectly predict that a churning customer will stay. We lose the customer and have to pay all the costs of acquiring a replacement customer.Finally, we give an incentive to customers that our model identifies as churning(20%). This is the cost we apply to both true positive and false positive outcomes.In the case of false positives (the customer is happy, but the model mistakenly predicted churn), we waste the concession."
   ]
  },
  {
   "cell_type": "markdown",
   "id": "65586a4d",
   "metadata": {},
   "source": [
    "A Base Case Scenario is a hypothetical situation that defines the parameters of a business decision by accounting for expected outcomes and factors. \n",
    "\n",
    "\n",
    "Scenario analysis is a process of examining and evaluating possible events or scenarios that could take place in the future and predicting the various feasible results or possible outcomes. \n",
    "\n",
    "Base case scenario – It is the average scenario, based on management assumptions. An example – when calculating the net present value, the rates most likely to be used are the discount rate, cash flow growth rate, or tax rate.\n",
    "\n",
    "Worst case scenario – Considers the most serious or severe outcome that may happen in a given situation. An example – when calculating the net present value, one would take the highest possible discount rate and subtract the possible cash flow growth rate or the highest expected tax rate.\n",
    "\n",
    "Best case scenario – It is the ideal projected scenario and is almost always put into action by management to achieve their objectives. An example – when calculating the net present value, use the lowest possible discount rate, the highest possible growth rate, and the lowest possible tax rate"
   ]
  },
  {
   "cell_type": "code",
   "execution_count": 130,
   "id": "6530cfe4",
   "metadata": {},
   "outputs": [],
   "source": [
    "# For  calculating Basecase revenue i will utilize  forecast price (but only energy), but before i should reverse \n",
    "#log norm transformation which i applied on consumption features in the previous task\n",
    "X_test_1['expected_revenue'] = (np.power(10, X_test_1['forecast_cons_12m']) + 1)*X_test_1['forecast_price_energy_off_peak']+X_test_1['forecast_meter_rent_12m']"
   ]
  },
  {
   "cell_type": "markdown",
   "id": "355aa824",
   "metadata": {},
   "source": [
    " we look at only 12 months period and  i will take churn into account as well. If customers churn it also means that revenue amount of company will decrease. First month, i mean january - 1-30/365 , jan-febr 1 - 58/365, march 1- 89/365.\n",
    " \n",
    " 1-30/365=1-0.082=0.918"
   ]
  },
  {
   "cell_type": "code",
   "execution_count": 131,
   "id": "ed94788a",
   "metadata": {},
   "outputs": [],
   "source": [
    "#revenue * 0.918 * churn  (for january)\n",
    "# revenue * (1-0.918 *churn) the rest of months ( the amount that company will lose)\n",
    "X_test_1['expected_revenue_after_churn'] = X_test_1['expected_revenue'] * (1 - 0.918 * X_test_1['churn'])"
   ]
  },
  {
   "cell_type": "code",
   "execution_count": 132,
   "id": "a7ae4800",
   "metadata": {},
   "outputs": [
    {
     "data": {
      "text/plain": [
       "4116.060622205725"
      ]
     },
     "execution_count": 132,
     "metadata": {},
     "output_type": "execute_result"
    }
   ],
   "source": [
    "#Difference between revenue before and after churn.(taking no account of discount)\n",
    "X_test_1['expected_revenue'].sum()-X_test_1['expected_revenue_after_churn'].sum()"
   ]
  },
  {
   "cell_type": "markdown",
   "id": "849515fc",
   "metadata": {},
   "source": [
    "Get deltas or differences of revenue after  offering 20% discount.The “Delta” is gap between the current reality and  expected result and devise a technique to arrive at the goal."
   ]
  },
  {
   "cell_type": "code",
   "execution_count": 133,
   "id": "c3268af6",
   "metadata": {},
   "outputs": [],
   "source": [
    " def revenue_deltas(pred=pd.DataFrame, cutoff=0.5, discount=0.2):\n",
    "        pred['discounted_revenue'] = pred['expected_revenue_after_churn']\n",
    "        pred.loc[pred['churn_probability'] >= cutoff, 'discounted_revenue'] =pred['expected_revenue'] * (1 - discount)\n",
    "        pred['revenue_delta'] = pred['discounted_revenue'] -pred['expected_revenue_after_churn']\n",
    "        return pred['revenue_delta'].sum()\n",
    "\n"
   ]
  },
  {
   "cell_type": "markdown",
   "id": "459d088e",
   "metadata": {},
   "source": [
    "A straightforward way to understand the impact of these numbers is to simply run a simulation over a large number of possible cutoffs."
   ]
  },
  {
   "cell_type": "markdown",
   "id": "d208ef73",
   "metadata": {},
   "source": [
    "The optimal cut-off point will balance the benefits from true positives against the costs of false positives."
   ]
  },
  {
   "cell_type": "code",
   "execution_count": 134,
   "id": "b90c5e8b",
   "metadata": {},
   "outputs": [
    {
     "data": {
      "image/png": "[encoded data removed]",
      "text/plain": [
       "<Figure size 640x480 with 1 Axes>"
      ]
     },
     "metadata": {},
     "output_type": "display_data"
    },
    {
     "name": "stdout",
     "output_type": "stream",
     "text": [
      "Maximum benefit at cutoff  0.51 with delta of $3,219.32\n"
     ]
    }
   ],
   "source": [
    "rev_deltas = pd.Series({cutoff: revenue_deltas(X_test_1, cutoff=cutoff) for cutoff in np.arange(0, 1, 0.01)})\n",
    "\n",
    "def plot_tradeoff(rev_deltas=pd.Series):\n",
    "    rev_deltas.plot()\n",
    "    max_pred = rev_deltas.idxmax()\n",
    "    plt.scatter(max_pred, rev_deltas.loc[max_pred], s=150, c='green')\n",
    "    plt.hlines(0, 0, 1)\n",
    "    plt.title('Revenue Delta vs Threshold', size = 10)\n",
    "    plt.show()\n",
    "    print(f'Maximum benefit at cutoff  {max_pred} with delta of ${rev_deltas.loc[max_pred]:,.2f}')\n",
    "plot_tradeoff(rev_deltas)\n"
   ]
  },
  {
   "cell_type": "markdown",
   "id": "68e970be",
   "metadata": {},
   "source": [
    "Based on a probability cut-off  we decided who to offer the discount. But it is not always best way  because some customers may not be  high-value customers and offering them the discount decrease profit amount. Even if we only consider revenue, this strategy might not be optimal. Becaue we can calculate the expected revenue impact of our strategy and prioritise\n",
    "customers for discounts that have a high expected revenue impact. This means that the\n",
    "probability of churn might be high but they also might be valuable customers.İt’s worth more to the business to prevent a high spend customer from churning than a low spend customer. A very common mistake in business applications of\n",
    "churn is to focus on the churn probability whilst forgetting the value impact "
   ]
  },
  {
   "cell_type": "code",
   "execution_count": 135,
   "id": "60810cf1",
   "metadata": {},
   "outputs": [
    {
     "name": "stdout",
     "output_type": "stream",
     "text": [
      "9.47\n"
     ]
    }
   ],
   "source": [
    "print(round(len(X_test_1[X_test_1['expected_revenue']>700])/len(X_test_1)*100,2))"
   ]
  },
  {
   "cell_type": "code",
   "execution_count": 136,
   "id": "f9c93d58",
   "metadata": {},
   "outputs": [],
   "source": [
    "# I set a minimum revenue amount and based on that company  will not try to identify which customers have large revenue amount\n",
    "#because our minimum is pretty high\n",
    "def get_rev_delta_high_value(pred: pd.DataFrame, cutoff: float=0.5, discount:float=0.2, min_rev=700):\n",
    "    pred['discount_revenue'] = pred['expected_revenue_after_churn']\n",
    "    pred.loc[(pred['churn_probability'] >= cutoff) & (pred['expected_revenue']> min_rev),\n",
    "             'discount_revenue'] = pred['expected_revenue'] * (1 - discount)\n",
    "    pred['revenue_delta'] = pred['discount_revenue'] -pred['expected_revenue_after_churn']\n",
    "    return pred['revenue_delta'].sum()\n"
   ]
  },
  {
   "cell_type": "code",
   "execution_count": 137,
   "id": "7ca082f9",
   "metadata": {},
   "outputs": [
    {
     "data": {
      "image/png": "[encoded data removed]",
      "text/plain": [
       "<Figure size 640x480 with 1 Axes>"
      ]
     },
     "metadata": {},
     "output_type": "display_data"
    },
    {
     "name": "stdout",
     "output_type": "stream",
     "text": [
      "Maximum benefit at cutoff  0.47000000000000003 with delta of $680.71\n"
     ]
    }
   ],
   "source": [
    "rev_deltas_high_value = pd.Series({cutoff: get_rev_delta_high_value(X_test_1,cutoff=cutoff) for cutoff in np.arange(0, 1, 0.01)})\n",
    "plot_tradeoff(rev_deltas_high_value)"
   ]
  },
  {
   "cell_type": "markdown",
   "id": "b3dd29f5",
   "metadata": {},
   "source": [
    "• Now we dont focus on large-revenue customers, because the overall\n",
    "revenue delta is much lower than when targeting everyone. However, this is only the case\n",
    "here since the intervention doesn’t depend on the number of customers (simply adjusting\n",
    "prices). The interventions usually go beyond simply adjusting prices to prevent churn.\n",
    "\n",
    "• There may be the option of intensifying the customer relation, adding key account managers,\n",
    "or other interventions that do incur costs depending on how many customers are targeted.\n",
    "In that case, it may be benefitial to target only a subset of customers to save on these costs,\n",
    "even if the delta in the figure above is reduced."
   ]
  },
  {
   "cell_type": "markdown",
   "id": "727459ae",
   "metadata": {},
   "source": [
    "Above  we offered a 20% discount to all customer targeted.\n",
    "However, this might not be optimal either. We assumed before that customers offered a discount\n",
    "will not churn. However, that may not be true in reality. The discount may not be large enough\n",
    "to prevent churn. Thefore,we should predict\n",
    "the response of customers to that discount (ie, the churn probability) based on how much that\n",
    "discount affects their prices, the revenue and margin.The optimal incentives calculated here are the result of an optimization routine designed to maximize an economic figure, which is the expected total profit. Although this approach provides a principled way for marketing teams to make systematic, quantitative, and analytics-driven decisions, it’s also important to recall that the objective function to be optimized is a proxy measure to the actual total profit. It goes without saying that we can’t compute the actual profit based on future decisions (this would paradoxically imply maximizing the actual return based on future values of the stocks). But we can explore new ideas using techniques such as the potential outcomes work , which we could use to design strategies for back-testing our solution.\n"
   ]
  },
  {
   "cell_type": "code",
   "execution_count": null,
   "id": "402a3f2b",
   "metadata": {},
   "outputs": [],
   "source": []
  },
  {
   "cell_type": "code",
   "execution_count": null,
   "id": "8ad6608f",
   "metadata": {},
   "outputs": [],
   "source": []
  },
  {
   "cell_type": "code",
   "execution_count": null,
   "id": "58ac336c",
   "metadata": {},
   "outputs": [],
   "source": []
  },
  {
   "cell_type": "code",
   "execution_count": null,
   "id": "585c5708",
   "metadata": {},
   "outputs": [],
   "source": []
  },
  {
   "cell_type": "code",
   "execution_count": null,
   "id": "a266de73",
   "metadata": {},
   "outputs": [],
   "source": []
  },
  {
   "cell_type": "code",
   "execution_count": null,
   "id": "6aeef5d4",
   "metadata": {},
   "outputs": [],
   "source": []
  },
  {
   "cell_type": "code",
   "execution_count": null,
   "id": "4492bf59",
   "metadata": {},
   "outputs": [],
   "source": []
  },
  {
   "cell_type": "code",
   "execution_count": null,
   "id": "7fecfbf1",
   "metadata": {},
   "outputs": [],
   "source": []
  },
  {
   "cell_type": "code",
   "execution_count": null,
   "id": "9443e52f",
   "metadata": {},
   "outputs": [],
   "source": []
  }
 ],
 "metadata": {
  "kernelspec": {
   "display_name": "Python 3 (ipykernel)",
   "language": "python",
   "name": "python3"
  },
  "language_info": {
   "codemirror_mode": {
    "name": "ipython",
    "version": 3
   },
   "file_extension": ".py",
   "mimetype": "text/x-python",
   "name": "python",
   "nbconvert_exporter": "python",
   "pygments_lexer": "ipython3",
   "version": "3.11.3"
  }
 },
 "nbformat": 4,
 "nbformat_minor": 5
}
